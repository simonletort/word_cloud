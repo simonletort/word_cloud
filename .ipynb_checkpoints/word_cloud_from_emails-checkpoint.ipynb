{
 "cells": [
  {
   "cell_type": "markdown",
   "metadata": {},
   "source": [
    "# word cloud\n",
    "parse email data\n",
    "generate a word cloud from subject"
   ]
  },
  {
   "cell_type": "code",
   "execution_count": 62,
   "metadata": {
    "collapsed": true
   },
   "outputs": [],
   "source": [
    "# import packages\n",
    "# if you get an error, try running in Terminal: \"pip install seaborn\" or \"pip install numpy\"\n",
    "import numpy as np\n",
    "import pandas as pd\n",
    "import seaborn as sns"
   ]
  },
  {
   "cell_type": "code",
   "execution_count": 63,
   "metadata": {
    "collapsed": false
   },
   "outputs": [
    {
     "data": {
      "text/html": [
       "<div>\n",
       "<table border=\"1\" class=\"dataframe\">\n",
       "  <thead>\n",
       "    <tr style=\"text-align: right;\">\n",
       "      <th></th>\n",
       "      <th>date</th>\n",
       "      <th>subject</th>\n",
       "      <th>from</th>\n",
       "      <th>to</th>\n",
       "    </tr>\n",
       "  </thead>\n",
       "  <tbody>\n",
       "    <tr>\n",
       "      <th>0</th>\n",
       "      <td>5/17/2016</td>\n",
       "      <td>hi how are you?</td>\n",
       "      <td>simon.letort@sgcib.com</td>\n",
       "      <td>reda.benkirane@sgcib.com;olivier.borderies@sgc...</td>\n",
       "    </tr>\n",
       "    <tr>\n",
       "      <th>1</th>\n",
       "      <td>5/16/2016</td>\n",
       "      <td>sg results q1 2016</td>\n",
       "      <td>ted.kelleher@sgcib.com</td>\n",
       "      <td>geoff.cornell@aig.com</td>\n",
       "    </tr>\n",
       "    <tr>\n",
       "      <th>2</th>\n",
       "      <td>5/16/2016</td>\n",
       "      <td>trade idea: golden hedges</td>\n",
       "      <td>ramon.verastegui@sgcib.com</td>\n",
       "      <td>eric.mitovski@blackrock.com</td>\n",
       "    </tr>\n",
       "  </tbody>\n",
       "</table>\n",
       "</div>"
      ],
      "text/plain": [
       "        date                    subject                        from  \\\n",
       "0  5/17/2016            hi how are you?      simon.letort@sgcib.com   \n",
       "1  5/16/2016         sg results q1 2016      ted.kelleher@sgcib.com   \n",
       "2  5/16/2016  trade idea: golden hedges  ramon.verastegui@sgcib.com   \n",
       "\n",
       "                                                  to  \n",
       "0  reda.benkirane@sgcib.com;olivier.borderies@sgc...  \n",
       "1                              geoff.cornell@aig.com  \n",
       "2                        eric.mitovski@blackrock.com  "
      ]
     },
     "execution_count": 63,
     "metadata": {},
     "output_type": "execute_result"
    }
   ],
   "source": [
    "#read email csv file\n",
    "email1 = pd.read_csv('email1.csv')\n",
    "email1.head()"
   ]
  },
  {
   "cell_type": "code",
   "execution_count": 64,
   "metadata": {
    "collapsed": false
   },
   "outputs": [
    {
     "data": {
      "text/plain": [
       "date       object\n",
       "subject    object\n",
       "from       object\n",
       "to         object\n",
       "dtype: object"
      ]
     },
     "execution_count": 64,
     "metadata": {},
     "output_type": "execute_result"
    }
   ],
   "source": [
    "email1.dtypes"
   ]
  },
  {
   "cell_type": "code",
   "execution_count": 65,
   "metadata": {
    "collapsed": false
   },
   "outputs": [
    {
     "data": {
      "text/html": [
       "<div>\n",
       "<table border=\"1\" class=\"dataframe\">\n",
       "  <thead>\n",
       "    <tr style=\"text-align: right;\">\n",
       "      <th></th>\n",
       "      <th>date</th>\n",
       "      <th>subject</th>\n",
       "      <th>from</th>\n",
       "      <th>to</th>\n",
       "    </tr>\n",
       "  </thead>\n",
       "  <tbody>\n",
       "    <tr>\n",
       "      <th>0</th>\n",
       "      <td>5/15/2016</td>\n",
       "      <td>update on sg cloud?</td>\n",
       "      <td>simon.letort@sgcib.com</td>\n",
       "      <td>reda.benkirane@sgcib.com</td>\n",
       "    </tr>\n",
       "    <tr>\n",
       "      <th>1</th>\n",
       "      <td>5/15/2016</td>\n",
       "      <td>presentation for our meeting</td>\n",
       "      <td>geoff.cornell@aig.com</td>\n",
       "      <td>ted.kelleher@sgcib.com</td>\n",
       "    </tr>\n",
       "    <tr>\n",
       "      <th>2</th>\n",
       "      <td>5/14/2016</td>\n",
       "      <td>trade idea: golden hedges</td>\n",
       "      <td>ramon.verastegui@sgcib.com</td>\n",
       "      <td>geoff.cornell@aig.com</td>\n",
       "    </tr>\n",
       "  </tbody>\n",
       "</table>\n",
       "</div>"
      ],
      "text/plain": [
       "        date                       subject                        from  \\\n",
       "0  5/15/2016           update on sg cloud?      simon.letort@sgcib.com   \n",
       "1  5/15/2016  presentation for our meeting       geoff.cornell@aig.com   \n",
       "2  5/14/2016     trade idea: golden hedges  ramon.verastegui@sgcib.com   \n",
       "\n",
       "                         to  \n",
       "0  reda.benkirane@sgcib.com  \n",
       "1    ted.kelleher@sgcib.com  \n",
       "2     geoff.cornell@aig.com  "
      ]
     },
     "execution_count": 65,
     "metadata": {},
     "output_type": "execute_result"
    }
   ],
   "source": [
    "email2 = pd.read_csv('email2.csv')\n",
    "email2.head()"
   ]
  },
  {
   "cell_type": "code",
   "execution_count": 66,
   "metadata": {
    "collapsed": false
   },
   "outputs": [
    {
     "data": {
      "text/plain": [
       "date       object\n",
       "subject    object\n",
       "from       object\n",
       "to         object\n",
       "dtype: object"
      ]
     },
     "execution_count": 66,
     "metadata": {},
     "output_type": "execute_result"
    }
   ],
   "source": [
    "email2.dtypes"
   ]
  },
  {
   "cell_type": "code",
   "execution_count": 67,
   "metadata": {
    "collapsed": false
   },
   "outputs": [
    {
     "data": {
      "text/html": [
       "<div>\n",
       "<table border=\"1\" class=\"dataframe\">\n",
       "  <thead>\n",
       "    <tr style=\"text-align: right;\">\n",
       "      <th></th>\n",
       "      <th>date</th>\n",
       "      <th>subject</th>\n",
       "      <th>from</th>\n",
       "      <th>to</th>\n",
       "    </tr>\n",
       "    <tr>\n",
       "      <th>date</th>\n",
       "      <th></th>\n",
       "      <th></th>\n",
       "      <th></th>\n",
       "      <th></th>\n",
       "    </tr>\n",
       "  </thead>\n",
       "  <tbody>\n",
       "    <tr>\n",
       "      <th>2016-05-17</th>\n",
       "      <td>2016-05-17</td>\n",
       "      <td>hi how are you?</td>\n",
       "      <td>simon.letort@sgcib.com</td>\n",
       "      <td>reda.benkirane@sgcib.com;olivier.borderies@sgc...</td>\n",
       "    </tr>\n",
       "    <tr>\n",
       "      <th>2016-05-16</th>\n",
       "      <td>2016-05-16</td>\n",
       "      <td>sg results q1 2016</td>\n",
       "      <td>ted.kelleher@sgcib.com</td>\n",
       "      <td>geoff.cornell@aig.com</td>\n",
       "    </tr>\n",
       "    <tr>\n",
       "      <th>2016-05-16</th>\n",
       "      <td>2016-05-16</td>\n",
       "      <td>trade idea: golden hedges</td>\n",
       "      <td>ramon.verastegui@sgcib.com</td>\n",
       "      <td>eric.mitovski@blackrock.com</td>\n",
       "    </tr>\n",
       "    <tr>\n",
       "      <th>2016-05-15</th>\n",
       "      <td>2016-05-15</td>\n",
       "      <td>update on sg cloud?</td>\n",
       "      <td>simon.letort@sgcib.com</td>\n",
       "      <td>reda.benkirane@sgcib.com</td>\n",
       "    </tr>\n",
       "    <tr>\n",
       "      <th>2016-05-15</th>\n",
       "      <td>2016-05-15</td>\n",
       "      <td>presentation for our meeting</td>\n",
       "      <td>geoff.cornell@aig.com</td>\n",
       "      <td>ted.kelleher@sgcib.com</td>\n",
       "    </tr>\n",
       "  </tbody>\n",
       "</table>\n",
       "</div>"
      ],
      "text/plain": [
       "                 date                       subject  \\\n",
       "date                                                  \n",
       "2016-05-17 2016-05-17               hi how are you?   \n",
       "2016-05-16 2016-05-16            sg results q1 2016   \n",
       "2016-05-16 2016-05-16     trade idea: golden hedges   \n",
       "2016-05-15 2016-05-15           update on sg cloud?   \n",
       "2016-05-15 2016-05-15  presentation for our meeting   \n",
       "\n",
       "                                  from  \\\n",
       "date                                     \n",
       "2016-05-17      simon.letort@sgcib.com   \n",
       "2016-05-16      ted.kelleher@sgcib.com   \n",
       "2016-05-16  ramon.verastegui@sgcib.com   \n",
       "2016-05-15      simon.letort@sgcib.com   \n",
       "2016-05-15       geoff.cornell@aig.com   \n",
       "\n",
       "                                                           to  \n",
       "date                                                           \n",
       "2016-05-17  reda.benkirane@sgcib.com;olivier.borderies@sgc...  \n",
       "2016-05-16                              geoff.cornell@aig.com  \n",
       "2016-05-16                        eric.mitovski@blackrock.com  \n",
       "2016-05-15                           reda.benkirane@sgcib.com  \n",
       "2016-05-15                             ted.kelleher@sgcib.com  "
      ]
     },
     "execution_count": 67,
     "metadata": {},
     "output_type": "execute_result"
    }
   ],
   "source": [
    "# aggregate email files in one data frame\n",
    "emails = pd.concat([email1,email2])\n",
    "emails['date'] = pd.to_datetime(emails['date'])\n",
    "# index based on date\n",
    "emails.index = emails['date']\n",
    "emails.head()"
   ]
  },
  {
   "cell_type": "code",
   "execution_count": null,
   "metadata": {
    "collapsed": false
   },
   "outputs": [],
   "source": [
    "# convert text field into str type\n",
    "############\n",
    "# NEED TO LOOK FOR CODE\n",
    "############"
   ]
  },
  {
   "cell_type": "code",
   "execution_count": 73,
   "metadata": {
    "collapsed": true
   },
   "outputs": [],
   "source": [
    "# split to: field into an array of emails based on the \";\" separator\n",
    "############\n",
    "# NEED TO LOOK FOR CODE\n",
    "############"
   ]
  },
  {
   "cell_type": "code",
   "execution_count": 68,
   "metadata": {
    "collapsed": false
   },
   "outputs": [
    {
     "data": {
      "text/plain": [
       "date       datetime64[ns]\n",
       "subject            object\n",
       "from               object\n",
       "to                 object\n",
       "dtype: object"
      ]
     },
     "execution_count": 68,
     "metadata": {},
     "output_type": "execute_result"
    }
   ],
   "source": [
    "emails.dtypes"
   ]
  },
  {
   "cell_type": "code",
   "execution_count": 71,
   "metadata": {
    "collapsed": false
   },
   "outputs": [
    {
     "data": {
      "text/html": [
       "<div>\n",
       "<table border=\"1\" class=\"dataframe\">\n",
       "  <thead>\n",
       "    <tr style=\"text-align: right;\">\n",
       "      <th></th>\n",
       "      <th>date</th>\n",
       "      <th>subject</th>\n",
       "      <th>from</th>\n",
       "      <th>to</th>\n",
       "    </tr>\n",
       "    <tr>\n",
       "      <th>date</th>\n",
       "      <th></th>\n",
       "      <th></th>\n",
       "      <th></th>\n",
       "      <th></th>\n",
       "    </tr>\n",
       "  </thead>\n",
       "  <tbody>\n",
       "  </tbody>\n",
       "</table>\n",
       "</div>"
      ],
      "text/plain": [
       "Empty DataFrame\n",
       "Columns: [date, subject, from, to]\n",
       "Index: []"
      ]
     },
     "execution_count": 71,
     "metadata": {},
     "output_type": "execute_result"
    }
   ],
   "source": [
    "# filter emails sent on a given day\n",
    "emails['2016-05-16']"
   ]
  },
  {
   "cell_type": "code",
   "execution_count": 72,
   "metadata": {
    "collapsed": true
   },
   "outputs": [],
   "source": [
    "# filter emails sent on a given data range\n",
    "############\n",
    "# NEED TO LOOK FOR CODE\n",
    "############"
   ]
  },
  {
   "cell_type": "code",
   "execution_count": 70,
   "metadata": {
    "collapsed": false
   },
   "outputs": [
    {
     "data": {
      "text/html": [
       "<div>\n",
       "<table border=\"1\" class=\"dataframe\">\n",
       "  <thead>\n",
       "    <tr style=\"text-align: right;\">\n",
       "      <th></th>\n",
       "      <th>date</th>\n",
       "      <th>subject</th>\n",
       "      <th>from</th>\n",
       "      <th>to</th>\n",
       "    </tr>\n",
       "    <tr>\n",
       "      <th>date</th>\n",
       "      <th></th>\n",
       "      <th></th>\n",
       "      <th></th>\n",
       "      <th></th>\n",
       "    </tr>\n",
       "  </thead>\n",
       "  <tbody>\n",
       "    <tr>\n",
       "      <th>2016-05-17</th>\n",
       "      <td>2016-05-17</td>\n",
       "      <td>hi how are you?</td>\n",
       "      <td>simon.letort@sgcib.com</td>\n",
       "      <td>reda.benkirane@sgcib.com;olivier.borderies@sgc...</td>\n",
       "    </tr>\n",
       "    <tr>\n",
       "      <th>2016-05-15</th>\n",
       "      <td>2016-05-15</td>\n",
       "      <td>update on sg cloud?</td>\n",
       "      <td>simon.letort@sgcib.com</td>\n",
       "      <td>reda.benkirane@sgcib.com</td>\n",
       "    </tr>\n",
       "  </tbody>\n",
       "</table>\n",
       "</div>"
      ],
      "text/plain": [
       "                 date              subject                    from  \\\n",
       "date                                                                 \n",
       "2016-05-17 2016-05-17      hi how are you?  simon.letort@sgcib.com   \n",
       "2016-05-15 2016-05-15  update on sg cloud?  simon.letort@sgcib.com   \n",
       "\n",
       "                                                           to  \n",
       "date                                                           \n",
       "2016-05-17  reda.benkirane@sgcib.com;olivier.borderies@sgc...  \n",
       "2016-05-15                           reda.benkirane@sgcib.com  "
      ]
     },
     "execution_count": 70,
     "metadata": {},
     "output_type": "execute_result"
    }
   ],
   "source": [
    "# filter emails sent by one person\n",
    "emails.query(emails['from']==\"simon.letort@sgcib.com\")"
   ]
  },
  {
   "cell_type": "code",
   "execution_count": null,
   "metadata": {
    "collapsed": true
   },
   "outputs": [],
   "source": []
  }
 ],
 "metadata": {
  "kernelspec": {
   "display_name": "Python 2",
   "language": "python",
   "name": "python2"
  },
  "language_info": {
   "codemirror_mode": {
    "name": "ipython",
    "version": 2
   },
   "file_extension": ".py",
   "mimetype": "text/x-python",
   "name": "python",
   "nbconvert_exporter": "python",
   "pygments_lexer": "ipython2",
   "version": "2.7.11"
  }
 },
 "nbformat": 4,
 "nbformat_minor": 0
}
